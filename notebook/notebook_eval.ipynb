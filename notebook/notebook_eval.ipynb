{
 "cells": [
  {
   "cell_type": "code",
   "execution_count": 1,
   "id": "04ee1e18-33a1-46a1-9f82-5aa86031dad0",
   "metadata": {},
   "outputs": [
    {
     "name": "stdout",
     "output_type": "stream",
     "text": [
      "CPU times: total: 7.75 s\n",
      "Wall time: 8.31 s\n"
     ]
    },
    {
     "name": "stderr",
     "output_type": "stream",
     "text": [
      "C:\\Users\\lenovo\\.virtualenvs\\llm_projet-1NsIyfzQ\\lib\\site-packages\\pydantic\\_internal\\_fields.py:132: UserWarning: Field \"model_id\" in DeployedModel has conflict with protected namespace \"model_\".\n",
      "\n",
      "You may be able to resolve this warning by setting `model_config['protected_namespaces'] = ()`.\n",
      "  warnings.warn(\n",
      "C:\\Users\\lenovo\\.virtualenvs\\llm_projet-1NsIyfzQ\\lib\\site-packages\\pydantic\\_internal\\_fields.py:132: UserWarning: Field \"model_name\" in HuggingFaceLLM has conflict with protected namespace \"model_\".\n",
      "\n",
      "You may be able to resolve this warning by setting `model_config['protected_namespaces'] = ()`.\n",
      "  warnings.warn(\n",
      "C:\\Users\\lenovo\\.virtualenvs\\llm_projet-1NsIyfzQ\\lib\\site-packages\\pydantic\\_internal\\_fields.py:132: UserWarning: Field \"model_kwargs\" in HuggingFaceLLM has conflict with protected namespace \"model_\".\n",
      "\n",
      "You may be able to resolve this warning by setting `model_config['protected_namespaces'] = ()`.\n",
      "  warnings.warn(\n",
      "C:\\Users\\lenovo\\.virtualenvs\\llm_projet-1NsIyfzQ\\lib\\site-packages\\pydantic\\_internal\\_fields.py:132: UserWarning: Field \"model_name\" in HuggingFaceInferenceAPI has conflict with protected namespace \"model_\".\n",
      "\n",
      "You may be able to resolve this warning by setting `model_config['protected_namespaces'] = ()`.\n",
      "  warnings.warn(\n",
      "C:\\Users\\lenovo\\.virtualenvs\\llm_projet-1NsIyfzQ\\lib\\site-packages\\pydantic\\_internal\\_fields.py:132: UserWarning: Field \"model_name\" in TextGenerationInference has conflict with protected namespace \"model_\".\n",
      "\n",
      "You may be able to resolve this warning by setting `model_config['protected_namespaces'] = ()`.\n",
      "  warnings.warn(\n"
     ]
    }
   ],
   "source": [
    "%%time\n",
    "from huggingface_hub import login\n",
    "from llama_index.core import VectorStoreIndex, SimpleDirectoryReader, ServiceContext\n",
    "from llama_index.core import VectorStoreIndex\n",
    "from llama_index.embeddings.huggingface import HuggingFaceEmbedding\n",
    "from llama_index.llms.huggingface import HuggingFaceInferenceAPI\n",
    "import os"
   ]
  },
  {
   "cell_type": "code",
   "execution_count": 2,
   "id": "99760269-d829-4ea0-b877-745ec7bac7c4",
   "metadata": {},
   "outputs": [],
   "source": [
    "from huggingface_hub import login\n",
    "from llama_index.core import SimpleDirectoryReader"
   ]
  },
  {
   "cell_type": "code",
   "execution_count": 3,
   "id": "43a1eafe-0cf8-45c5-b7a2-78233514ec7b",
   "metadata": {},
   "outputs": [],
   "source": [
    "from llama_index.llms.ollama import Ollama\n",
    "llm = Ollama(model=\"llama3.2:3b\", request_timeout=100.0)"
   ]
  },
  {
   "cell_type": "code",
   "execution_count": 4,
   "id": "d1981883-aa6e-450e-ae58-2fa2755e6d8e",
   "metadata": {},
   "outputs": [
    {
     "name": "stdout",
     "output_type": "stream",
     "text": [
      "London_Love_Life.pdf found in ./colab_data\\London_Love_Life.pdf.\n",
      "chunks_doc 20\n"
     ]
    }
   ],
   "source": [
    "folder_path = './colab_data'\n",
    "file_name = 'London_Love_Life.pdf'  \n",
    "\n",
    "file_path = os.path.join(folder_path, file_name)\n",
    "if os.path.exists(file_path):\n",
    "    print(f\"{file_name} found in {file_path}.\")\n",
    "else:\n",
    "    print(f\"{file_name} not found in {folder_path}.\")\n",
    "\n",
    "\n",
    "reader = SimpleDirectoryReader(input_files=[file_path])\n",
    "document = reader.load_data()\n",
    "\n",
    "chunks_doc = len(document)\n",
    "print(\"chunks_doc\", chunks_doc)"
   ]
  },
  {
   "cell_type": "code",
   "execution_count": 5,
   "id": "3808d661-b7ec-4c25-a392-19caae784bf7",
   "metadata": {},
   "outputs": [
    {
     "name": "stdout",
     "output_type": "stream",
     "text": [
      "CPU times: total: 6min 56s\n",
      "Wall time: 59.8 s\n"
     ]
    }
   ],
   "source": [
    "%%time\n",
    "from llama_index.vector_stores.chroma import ChromaVectorStore\n",
    "from llama_index.embeddings.huggingface import HuggingFaceEmbedding\n",
    "import chromadb\n",
    "from llama_index.core import Settings\n",
    "from llama_index.core import StorageContext\n",
    "from llama_index.core import SimpleDirectoryReader, VectorStoreIndex, Settings\n",
    "from llama_index.core.node_parser import SentenceSplitter\n",
    "from llama_index.embeddings.huggingface import HuggingFaceEmbedding\n",
    "from llama_index.core import Document\n",
    "from llama_index.core.settings import Settings\n",
    "\n",
    "\n",
    "db = chromadb.PersistentClient(path=\"./chroma_db\")\n",
    "chroma_collection = db.get_or_create_collection(\"DB_collection\")\n",
    "vector_store = ChromaVectorStore(chroma_collection=chroma_collection)\n",
    "\n",
    "\n",
    "Settings.llm = llm\n",
    "Settings.embed_model = HuggingFaceEmbedding(model_name=\"intfloat/multilingual-e5-large\")\n",
    "\n",
    "\n",
    "reader = SimpleDirectoryReader(input_files=[file_path])\n",
    "documents = reader.load_data()\n",
    "index = VectorStoreIndex.from_documents(documents, \n",
    "                                       transformations=[SentenceSplitter(chunk_size=1024, chunk_overlap=200)],\n",
    "                                        embed_model=HuggingFaceEmbedding(model_name=\"intfloat/multilingual-e5-large\")\n",
    "                                       )\n"
   ]
  },
  {
   "cell_type": "code",
   "execution_count": 6,
   "id": "446adf19-ba17-4ec0-8380-60a934012d62",
   "metadata": {},
   "outputs": [
    {
     "name": "stderr",
     "output_type": "stream",
     "text": [
      "100%|██████████████████████████████████████████████████████████████████████████████████████████████████████████████████████████████████████| 20/20 [00:36<00:00,  1.80s/it]\n"
     ]
    }
   ],
   "source": [
    "from llama_index.core.evaluation import generate_question_context_pairs, EmbeddingQAFinetuneDataset\n",
    "qa_dataset = generate_question_context_pairs(documents, llm=llm, num_questions_per_chunk=4)"
   ]
  },
  {
   "cell_type": "code",
   "execution_count": 9,
   "id": "d5d95906-f431-492c-a806-cdcb7b0b6560",
   "metadata": {},
   "outputs": [
    {
     "data": {
      "application/vnd.jupyter.widget-view+json": {
       "model_id": "6eeda6b1b95447c69fdfb1ca2cae9de4",
       "version_major": 2,
       "version_minor": 0
      },
      "text/plain": [
       "Generating embeddings:   0%|          | 0/20 [00:00<?, ?it/s]"
      ]
     },
     "metadata": {},
     "output_type": "display_data"
    },
    {
     "name": "stdout",
     "output_type": "stream",
     "text": [
      "Evaluation results: [{'is_hit': False, 'retrieved': ['bb68c6c5-6a7c-44af-9a2f-b754ac287f4e', 'dbabe5a1-fc94-45e0-8283-419914cbf264', '3ab93ea8-72df-45c4-bbf4-e09f8c4ec7b2', '28b7f569-31b3-459c-be7b-c8e326eaa340', '8fa057e2-24fc-40ae-b32b-fe467fcb7466', '82225575-1bd9-483c-a298-b25c0bc5cac7', '04dd36c9-f349-4b27-ad6d-1967dd5f0e80', 'af52ef5b-dbe0-4826-8b13-fed05ecb5025', '4c4a381e-07ea-4649-bf1f-acf7a2911172', '18dddd0a-53b5-437b-bac5-df911d10684c'], 'expected': '46401432-2095-4a7e-95ea-b75aa41230d7', 'query': '273b3c89-8ae2-4ce1-b5a6-0a262cb72102'}, {'is_hit': True, 'retrieved': ['46401432-2095-4a7e-95ea-b75aa41230d7', 'eb49602b-b494-4b4a-89f1-dc9965a497a9', '82225575-1bd9-483c-a298-b25c0bc5cac7', '795ec3fd-ded7-4858-8315-412525075a0c', 'dbabe5a1-fc94-45e0-8283-419914cbf264', 'bb68c6c5-6a7c-44af-9a2f-b754ac287f4e', '3ab93ea8-72df-45c4-bbf4-e09f8c4ec7b2', 'e62e2d88-e6f1-44f1-b036-d5845b04021b', '66ca8265-b512-414d-8f79-133b69ad9c77', '28b7f569-31b3-459c-be7b-c8e326eaa340'], 'expected': '46401432-2095-4a7e-95ea-b75aa41230d7', 'query': '55e471a8-bb39-4d2b-9fbd-7a16ea513d24'}, {'is_hit': True, 'retrieved': ['46401432-2095-4a7e-95ea-b75aa41230d7', 'eb49602b-b494-4b4a-89f1-dc9965a497a9', '512de75c-db4c-4c4c-8a28-d26397a69d19', '04dd36c9-f349-4b27-ad6d-1967dd5f0e80', '18dddd0a-53b5-437b-bac5-df911d10684c', 'e62e2d88-e6f1-44f1-b036-d5845b04021b', '61c26e01-ded3-4660-b386-3314963b3feb', 'af52ef5b-dbe0-4826-8b13-fed05ecb5025', '28b7f569-31b3-459c-be7b-c8e326eaa340', '82225575-1bd9-483c-a298-b25c0bc5cac7'], 'expected': '46401432-2095-4a7e-95ea-b75aa41230d7', 'query': '1ade6aa6-0f7b-422c-9f53-4e19967bce27'}, {'is_hit': True, 'retrieved': ['46401432-2095-4a7e-95ea-b75aa41230d7', 'eb49602b-b494-4b4a-89f1-dc9965a497a9', 'e62e2d88-e6f1-44f1-b036-d5845b04021b', 'f2cd63a8-bf56-4059-8a4e-7ad40c24652b', 'af52ef5b-dbe0-4826-8b13-fed05ecb5025', 'bb68c6c5-6a7c-44af-9a2f-b754ac287f4e', 'dbabe5a1-fc94-45e0-8283-419914cbf264', '66ca8265-b512-414d-8f79-133b69ad9c77', '82225575-1bd9-483c-a298-b25c0bc5cac7', '04dd36c9-f349-4b27-ad6d-1967dd5f0e80'], 'expected': '46401432-2095-4a7e-95ea-b75aa41230d7', 'query': 'cccca952-55ac-46da-9dc7-f8b9788b2e68'}, {'is_hit': False, 'retrieved': ['bb68c6c5-6a7c-44af-9a2f-b754ac287f4e', 'dbabe5a1-fc94-45e0-8283-419914cbf264', '3ab93ea8-72df-45c4-bbf4-e09f8c4ec7b2', '28b7f569-31b3-459c-be7b-c8e326eaa340', '82225575-1bd9-483c-a298-b25c0bc5cac7', '8fa057e2-24fc-40ae-b32b-fe467fcb7466', '66ca8265-b512-414d-8f79-133b69ad9c77', 'af52ef5b-dbe0-4826-8b13-fed05ecb5025', '4c4a381e-07ea-4649-bf1f-acf7a2911172', '795ec3fd-ded7-4858-8315-412525075a0c'], 'expected': 'f2cd63a8-bf56-4059-8a4e-7ad40c24652b', 'query': '124f617e-0f36-4e8d-8d23-fcb750650ee0'}, {'is_hit': True, 'retrieved': ['f2cd63a8-bf56-4059-8a4e-7ad40c24652b', '3ab93ea8-72df-45c4-bbf4-e09f8c4ec7b2', 'e62e2d88-e6f1-44f1-b036-d5845b04021b', '28b7f569-31b3-459c-be7b-c8e326eaa340', '66ca8265-b512-414d-8f79-133b69ad9c77', '64f1ca9f-a269-4d9f-b2b1-653c47c099fd', 'af52ef5b-dbe0-4826-8b13-fed05ecb5025', '4c4a381e-07ea-4649-bf1f-acf7a2911172', '512de75c-db4c-4c4c-8a28-d26397a69d19', 'eb49602b-b494-4b4a-89f1-dc9965a497a9'], 'expected': 'f2cd63a8-bf56-4059-8a4e-7ad40c24652b', 'query': '5bf6079e-e4a2-4670-99a5-d71a1959bbdb'}, {'is_hit': True, 'retrieved': ['e62e2d88-e6f1-44f1-b036-d5845b04021b', 'dbabe5a1-fc94-45e0-8283-419914cbf264', 'af52ef5b-dbe0-4826-8b13-fed05ecb5025', '512de75c-db4c-4c4c-8a28-d26397a69d19', '04dd36c9-f349-4b27-ad6d-1967dd5f0e80', '3ab93ea8-72df-45c4-bbf4-e09f8c4ec7b2', '795ec3fd-ded7-4858-8315-412525075a0c', '61c26e01-ded3-4660-b386-3314963b3feb', '4c4a381e-07ea-4649-bf1f-acf7a2911172', 'f2cd63a8-bf56-4059-8a4e-7ad40c24652b'], 'expected': 'f2cd63a8-bf56-4059-8a4e-7ad40c24652b', 'query': '5898d89e-7665-4c15-99b5-2ef340d4c341'}, {'is_hit': True, 'retrieved': ['bb68c6c5-6a7c-44af-9a2f-b754ac287f4e', 'f2cd63a8-bf56-4059-8a4e-7ad40c24652b', 'af52ef5b-dbe0-4826-8b13-fed05ecb5025', '28b7f569-31b3-459c-be7b-c8e326eaa340', '8fa057e2-24fc-40ae-b32b-fe467fcb7466', '82225575-1bd9-483c-a298-b25c0bc5cac7', '04dd36c9-f349-4b27-ad6d-1967dd5f0e80', 'e62e2d88-e6f1-44f1-b036-d5845b04021b', 'eb49602b-b494-4b4a-89f1-dc9965a497a9', '64f1ca9f-a269-4d9f-b2b1-653c47c099fd'], 'expected': 'f2cd63a8-bf56-4059-8a4e-7ad40c24652b', 'query': 'facc2bef-625d-48d4-b7b8-4d6dab361054'}, {'is_hit': False, 'retrieved': ['bb68c6c5-6a7c-44af-9a2f-b754ac287f4e', 'dbabe5a1-fc94-45e0-8283-419914cbf264', '3ab93ea8-72df-45c4-bbf4-e09f8c4ec7b2', '28b7f569-31b3-459c-be7b-c8e326eaa340', '8fa057e2-24fc-40ae-b32b-fe467fcb7466', '82225575-1bd9-483c-a298-b25c0bc5cac7', '04dd36c9-f349-4b27-ad6d-1967dd5f0e80', 'af52ef5b-dbe0-4826-8b13-fed05ecb5025', '4c4a381e-07ea-4649-bf1f-acf7a2911172', '18dddd0a-53b5-437b-bac5-df911d10684c'], 'expected': '66ca8265-b512-414d-8f79-133b69ad9c77', 'query': 'bda95489-0e3b-4c3d-b212-70acd92c597e'}, {'is_hit': True, 'retrieved': ['66ca8265-b512-414d-8f79-133b69ad9c77', '512de75c-db4c-4c4c-8a28-d26397a69d19', '795ec3fd-ded7-4858-8315-412525075a0c', '04dd36c9-f349-4b27-ad6d-1967dd5f0e80', '28b7f569-31b3-459c-be7b-c8e326eaa340', 'dbabe5a1-fc94-45e0-8283-419914cbf264', '4c4a381e-07ea-4649-bf1f-acf7a2911172', '18dddd0a-53b5-437b-bac5-df911d10684c', 'bb68c6c5-6a7c-44af-9a2f-b754ac287f4e', '8fa057e2-24fc-40ae-b32b-fe467fcb7466'], 'expected': '66ca8265-b512-414d-8f79-133b69ad9c77', 'query': '190a5ab8-3065-4085-a4e0-f87d158e3397'}, {'is_hit': True, 'retrieved': ['795ec3fd-ded7-4858-8315-412525075a0c', 'dbabe5a1-fc94-45e0-8283-419914cbf264', '61c26e01-ded3-4660-b386-3314963b3feb', 'e62e2d88-e6f1-44f1-b036-d5845b04021b', '66ca8265-b512-414d-8f79-133b69ad9c77', '3ab93ea8-72df-45c4-bbf4-e09f8c4ec7b2', '4c4a381e-07ea-4649-bf1f-acf7a2911172', 'eb49602b-b494-4b4a-89f1-dc9965a497a9', '18dddd0a-53b5-437b-bac5-df911d10684c', '8fa057e2-24fc-40ae-b32b-fe467fcb7466'], 'expected': '66ca8265-b512-414d-8f79-133b69ad9c77', 'query': '3d87e1ad-9818-4335-8d2c-e68f30aaef68'}, {'is_hit': True, 'retrieved': ['66ca8265-b512-414d-8f79-133b69ad9c77', '64f1ca9f-a269-4d9f-b2b1-653c47c099fd', 'dbabe5a1-fc94-45e0-8283-419914cbf264', '8fa057e2-24fc-40ae-b32b-fe467fcb7466', '28b7f569-31b3-459c-be7b-c8e326eaa340', '61c26e01-ded3-4660-b386-3314963b3feb', '795ec3fd-ded7-4858-8315-412525075a0c', 'bb68c6c5-6a7c-44af-9a2f-b754ac287f4e', '4c4a381e-07ea-4649-bf1f-acf7a2911172', 'af52ef5b-dbe0-4826-8b13-fed05ecb5025'], 'expected': '66ca8265-b512-414d-8f79-133b69ad9c77', 'query': 'cc1652b3-314e-472e-8eba-87c96a1d1dbc'}, {'is_hit': False, 'retrieved': ['bb68c6c5-6a7c-44af-9a2f-b754ac287f4e', 'dbabe5a1-fc94-45e0-8283-419914cbf264', '3ab93ea8-72df-45c4-bbf4-e09f8c4ec7b2', '28b7f569-31b3-459c-be7b-c8e326eaa340', '82225575-1bd9-483c-a298-b25c0bc5cac7', '8fa057e2-24fc-40ae-b32b-fe467fcb7466', '66ca8265-b512-414d-8f79-133b69ad9c77', 'af52ef5b-dbe0-4826-8b13-fed05ecb5025', '4c4a381e-07ea-4649-bf1f-acf7a2911172', '795ec3fd-ded7-4858-8315-412525075a0c'], 'expected': '64f1ca9f-a269-4d9f-b2b1-653c47c099fd', 'query': '2f86eb85-8d60-4758-bc9e-3957c1967e40'}, {'is_hit': True, 'retrieved': ['f2cd63a8-bf56-4059-8a4e-7ad40c24652b', '64f1ca9f-a269-4d9f-b2b1-653c47c099fd', 'e62e2d88-e6f1-44f1-b036-d5845b04021b', '28b7f569-31b3-459c-be7b-c8e326eaa340', '512de75c-db4c-4c4c-8a28-d26397a69d19', '4c4a381e-07ea-4649-bf1f-acf7a2911172', '3ab93ea8-72df-45c4-bbf4-e09f8c4ec7b2', 'eb49602b-b494-4b4a-89f1-dc9965a497a9', 'af52ef5b-dbe0-4826-8b13-fed05ecb5025', '04dd36c9-f349-4b27-ad6d-1967dd5f0e80'], 'expected': '64f1ca9f-a269-4d9f-b2b1-653c47c099fd', 'query': '0dd9eecd-69fd-4714-90ab-5ddf9fe04b22'}, {'is_hit': True, 'retrieved': ['64f1ca9f-a269-4d9f-b2b1-653c47c099fd', '61c26e01-ded3-4660-b386-3314963b3feb', 'e62e2d88-e6f1-44f1-b036-d5845b04021b', 'dbabe5a1-fc94-45e0-8283-419914cbf264', '18dddd0a-53b5-437b-bac5-df911d10684c', '28b7f569-31b3-459c-be7b-c8e326eaa340', 'eb49602b-b494-4b4a-89f1-dc9965a497a9', 'f2cd63a8-bf56-4059-8a4e-7ad40c24652b', 'af52ef5b-dbe0-4826-8b13-fed05ecb5025', '8fa057e2-24fc-40ae-b32b-fe467fcb7466'], 'expected': '64f1ca9f-a269-4d9f-b2b1-653c47c099fd', 'query': '2cce153e-5251-4e1f-b95e-b7427a546e3b'}, {'is_hit': True, 'retrieved': ['28b7f569-31b3-459c-be7b-c8e326eaa340', '795ec3fd-ded7-4858-8315-412525075a0c', 'e62e2d88-e6f1-44f1-b036-d5845b04021b', '8fa057e2-24fc-40ae-b32b-fe467fcb7466', '512de75c-db4c-4c4c-8a28-d26397a69d19', '64f1ca9f-a269-4d9f-b2b1-653c47c099fd', 'f2cd63a8-bf56-4059-8a4e-7ad40c24652b', '18dddd0a-53b5-437b-bac5-df911d10684c', 'eb49602b-b494-4b4a-89f1-dc9965a497a9', '04dd36c9-f349-4b27-ad6d-1967dd5f0e80'], 'expected': '64f1ca9f-a269-4d9f-b2b1-653c47c099fd', 'query': '73f1af0c-e1c5-4688-bdd1-92c29ccabbdc'}, {'is_hit': False, 'retrieved': ['bb68c6c5-6a7c-44af-9a2f-b754ac287f4e', '28b7f569-31b3-459c-be7b-c8e326eaa340', 'dbabe5a1-fc94-45e0-8283-419914cbf264', '8fa057e2-24fc-40ae-b32b-fe467fcb7466', '3ab93ea8-72df-45c4-bbf4-e09f8c4ec7b2', '82225575-1bd9-483c-a298-b25c0bc5cac7', '512de75c-db4c-4c4c-8a28-d26397a69d19', '61c26e01-ded3-4660-b386-3314963b3feb', '4c4a381e-07ea-4649-bf1f-acf7a2911172', '66ca8265-b512-414d-8f79-133b69ad9c77'], 'expected': '795ec3fd-ded7-4858-8315-412525075a0c', 'query': 'af4f58f2-c068-4ab6-a08e-58b5bc80a5ea'}, {'is_hit': True, 'retrieved': ['eb49602b-b494-4b4a-89f1-dc9965a497a9', '28b7f569-31b3-459c-be7b-c8e326eaa340', '795ec3fd-ded7-4858-8315-412525075a0c', '18dddd0a-53b5-437b-bac5-df911d10684c', 'dbabe5a1-fc94-45e0-8283-419914cbf264', '4c4a381e-07ea-4649-bf1f-acf7a2911172', '61c26e01-ded3-4660-b386-3314963b3feb', 'e62e2d88-e6f1-44f1-b036-d5845b04021b', '8fa057e2-24fc-40ae-b32b-fe467fcb7466', '512de75c-db4c-4c4c-8a28-d26397a69d19'], 'expected': '795ec3fd-ded7-4858-8315-412525075a0c', 'query': 'aac9da72-6b75-4986-8b2a-298df224c928'}, {'is_hit': True, 'retrieved': ['512de75c-db4c-4c4c-8a28-d26397a69d19', '04dd36c9-f349-4b27-ad6d-1967dd5f0e80', 'eb49602b-b494-4b4a-89f1-dc9965a497a9', '66ca8265-b512-414d-8f79-133b69ad9c77', '8fa057e2-24fc-40ae-b32b-fe467fcb7466', 'dbabe5a1-fc94-45e0-8283-419914cbf264', 'af52ef5b-dbe0-4826-8b13-fed05ecb5025', '795ec3fd-ded7-4858-8315-412525075a0c', 'bb68c6c5-6a7c-44af-9a2f-b754ac287f4e', '3ab93ea8-72df-45c4-bbf4-e09f8c4ec7b2'], 'expected': '795ec3fd-ded7-4858-8315-412525075a0c', 'query': '6668599e-e826-4dca-99a8-1e3930ce3c13'}, {'is_hit': True, 'retrieved': ['28b7f569-31b3-459c-be7b-c8e326eaa340', 'dbabe5a1-fc94-45e0-8283-419914cbf264', 'eb49602b-b494-4b4a-89f1-dc9965a497a9', 'f5c34d8d-e724-4c27-ba66-746af0398224', '82225575-1bd9-483c-a298-b25c0bc5cac7', '795ec3fd-ded7-4858-8315-412525075a0c', 'bb68c6c5-6a7c-44af-9a2f-b754ac287f4e', 'af52ef5b-dbe0-4826-8b13-fed05ecb5025', '04dd36c9-f349-4b27-ad6d-1967dd5f0e80', '61c26e01-ded3-4660-b386-3314963b3feb'], 'expected': '795ec3fd-ded7-4858-8315-412525075a0c', 'query': 'bb59878a-247f-43c8-b8f4-53a32d1fe2e8'}, {'is_hit': False, 'retrieved': ['bb68c6c5-6a7c-44af-9a2f-b754ac287f4e', 'dbabe5a1-fc94-45e0-8283-419914cbf264', '3ab93ea8-72df-45c4-bbf4-e09f8c4ec7b2', '28b7f569-31b3-459c-be7b-c8e326eaa340', '82225575-1bd9-483c-a298-b25c0bc5cac7', '8fa057e2-24fc-40ae-b32b-fe467fcb7466', '66ca8265-b512-414d-8f79-133b69ad9c77', 'af52ef5b-dbe0-4826-8b13-fed05ecb5025', '4c4a381e-07ea-4649-bf1f-acf7a2911172', '795ec3fd-ded7-4858-8315-412525075a0c'], 'expected': '61c26e01-ded3-4660-b386-3314963b3feb', 'query': 'c0fbff08-f88b-493e-be72-116207c5a8e0'}, {'is_hit': True, 'retrieved': ['61c26e01-ded3-4660-b386-3314963b3feb', 'dbabe5a1-fc94-45e0-8283-419914cbf264', '18dddd0a-53b5-437b-bac5-df911d10684c', '64f1ca9f-a269-4d9f-b2b1-653c47c099fd', 'e62e2d88-e6f1-44f1-b036-d5845b04021b', '28b7f569-31b3-459c-be7b-c8e326eaa340', '795ec3fd-ded7-4858-8315-412525075a0c', '4c4a381e-07ea-4649-bf1f-acf7a2911172', 'bb68c6c5-6a7c-44af-9a2f-b754ac287f4e', '66ca8265-b512-414d-8f79-133b69ad9c77'], 'expected': '61c26e01-ded3-4660-b386-3314963b3feb', 'query': '87a73115-ba43-42da-abef-ae8d05084ec4'}, {'is_hit': True, 'retrieved': ['61c26e01-ded3-4660-b386-3314963b3feb', 'eb49602b-b494-4b4a-89f1-dc9965a497a9', 'e62e2d88-e6f1-44f1-b036-d5845b04021b', '04dd36c9-f349-4b27-ad6d-1967dd5f0e80', '28b7f569-31b3-459c-be7b-c8e326eaa340', 'dbabe5a1-fc94-45e0-8283-419914cbf264', 'af52ef5b-dbe0-4826-8b13-fed05ecb5025', '4c4a381e-07ea-4649-bf1f-acf7a2911172', '18dddd0a-53b5-437b-bac5-df911d10684c', 'bb68c6c5-6a7c-44af-9a2f-b754ac287f4e'], 'expected': '61c26e01-ded3-4660-b386-3314963b3feb', 'query': '16815740-8b4d-43c6-bc26-101b3c855467'}, {'is_hit': True, 'retrieved': ['61c26e01-ded3-4660-b386-3314963b3feb', '18dddd0a-53b5-437b-bac5-df911d10684c', '4c4a381e-07ea-4649-bf1f-acf7a2911172', '8fa057e2-24fc-40ae-b32b-fe467fcb7466', '512de75c-db4c-4c4c-8a28-d26397a69d19', 'af52ef5b-dbe0-4826-8b13-fed05ecb5025', 'e62e2d88-e6f1-44f1-b036-d5845b04021b', 'f2cd63a8-bf56-4059-8a4e-7ad40c24652b', 'dbabe5a1-fc94-45e0-8283-419914cbf264', '28b7f569-31b3-459c-be7b-c8e326eaa340'], 'expected': '61c26e01-ded3-4660-b386-3314963b3feb', 'query': 'df0963ff-dbcb-4344-bc8c-264909c887ec'}, {'is_hit': True, 'retrieved': ['bb68c6c5-6a7c-44af-9a2f-b754ac287f4e', 'dbabe5a1-fc94-45e0-8283-419914cbf264', '512de75c-db4c-4c4c-8a28-d26397a69d19', '8fa057e2-24fc-40ae-b32b-fe467fcb7466', '04dd36c9-f349-4b27-ad6d-1967dd5f0e80', '3ab93ea8-72df-45c4-bbf4-e09f8c4ec7b2', '28b7f569-31b3-459c-be7b-c8e326eaa340', '4c4a381e-07ea-4649-bf1f-acf7a2911172', '82225575-1bd9-483c-a298-b25c0bc5cac7', 'af52ef5b-dbe0-4826-8b13-fed05ecb5025'], 'expected': '8fa057e2-24fc-40ae-b32b-fe467fcb7466', 'query': '845f46a5-e983-40c8-bbe2-34d22160c6a5'}, {'is_hit': True, 'retrieved': ['e62e2d88-e6f1-44f1-b036-d5845b04021b', '8fa057e2-24fc-40ae-b32b-fe467fcb7466', '61c26e01-ded3-4660-b386-3314963b3feb', '18dddd0a-53b5-437b-bac5-df911d10684c', '512de75c-db4c-4c4c-8a28-d26397a69d19', '04dd36c9-f349-4b27-ad6d-1967dd5f0e80', 'af52ef5b-dbe0-4826-8b13-fed05ecb5025', '795ec3fd-ded7-4858-8315-412525075a0c', '4c4a381e-07ea-4649-bf1f-acf7a2911172', '3ab93ea8-72df-45c4-bbf4-e09f8c4ec7b2'], 'expected': '8fa057e2-24fc-40ae-b32b-fe467fcb7466', 'query': '7ebfdba5-f2a6-44c2-b77a-fb40e97361c9'}, {'is_hit': True, 'retrieved': ['8fa057e2-24fc-40ae-b32b-fe467fcb7466', '18dddd0a-53b5-437b-bac5-df911d10684c', '61c26e01-ded3-4660-b386-3314963b3feb', '4c4a381e-07ea-4649-bf1f-acf7a2911172', '04dd36c9-f349-4b27-ad6d-1967dd5f0e80', 'e62e2d88-e6f1-44f1-b036-d5845b04021b', '28b7f569-31b3-459c-be7b-c8e326eaa340', '82225575-1bd9-483c-a298-b25c0bc5cac7', '512de75c-db4c-4c4c-8a28-d26397a69d19', '3ab93ea8-72df-45c4-bbf4-e09f8c4ec7b2'], 'expected': '8fa057e2-24fc-40ae-b32b-fe467fcb7466', 'query': '39244ef9-7c62-4734-8e10-f05b3be3239c'}, {'is_hit': True, 'retrieved': ['8fa057e2-24fc-40ae-b32b-fe467fcb7466', '512de75c-db4c-4c4c-8a28-d26397a69d19', '3ab93ea8-72df-45c4-bbf4-e09f8c4ec7b2', '64f1ca9f-a269-4d9f-b2b1-653c47c099fd', 'dbabe5a1-fc94-45e0-8283-419914cbf264', '28b7f569-31b3-459c-be7b-c8e326eaa340', '04dd36c9-f349-4b27-ad6d-1967dd5f0e80', 'e62e2d88-e6f1-44f1-b036-d5845b04021b', '18dddd0a-53b5-437b-bac5-df911d10684c', 'f2cd63a8-bf56-4059-8a4e-7ad40c24652b'], 'expected': '8fa057e2-24fc-40ae-b32b-fe467fcb7466', 'query': '23c5c105-f153-413d-8dbe-59c247685160'}, {'is_hit': True, 'retrieved': ['bb68c6c5-6a7c-44af-9a2f-b754ac287f4e', '28b7f569-31b3-459c-be7b-c8e326eaa340', 'dbabe5a1-fc94-45e0-8283-419914cbf264', '8fa057e2-24fc-40ae-b32b-fe467fcb7466', '3ab93ea8-72df-45c4-bbf4-e09f8c4ec7b2', '82225575-1bd9-483c-a298-b25c0bc5cac7', '512de75c-db4c-4c4c-8a28-d26397a69d19', '61c26e01-ded3-4660-b386-3314963b3feb', '4c4a381e-07ea-4649-bf1f-acf7a2911172', '66ca8265-b512-414d-8f79-133b69ad9c77'], 'expected': '28b7f569-31b3-459c-be7b-c8e326eaa340', 'query': 'd26ad9e7-4c07-4629-8160-36b9167da096'}, {'is_hit': True, 'retrieved': ['28b7f569-31b3-459c-be7b-c8e326eaa340', '8fa057e2-24fc-40ae-b32b-fe467fcb7466', '3ab93ea8-72df-45c4-bbf4-e09f8c4ec7b2', '82225575-1bd9-483c-a298-b25c0bc5cac7', 'e62e2d88-e6f1-44f1-b036-d5845b04021b', 'bb68c6c5-6a7c-44af-9a2f-b754ac287f4e', '04dd36c9-f349-4b27-ad6d-1967dd5f0e80', '18dddd0a-53b5-437b-bac5-df911d10684c', '4c4a381e-07ea-4649-bf1f-acf7a2911172', 'af52ef5b-dbe0-4826-8b13-fed05ecb5025'], 'expected': '28b7f569-31b3-459c-be7b-c8e326eaa340', 'query': 'd70b386f-d3ad-45fb-aeaf-469c860c5b02'}, {'is_hit': True, 'retrieved': ['dbabe5a1-fc94-45e0-8283-419914cbf264', '28b7f569-31b3-459c-be7b-c8e326eaa340', 'bb68c6c5-6a7c-44af-9a2f-b754ac287f4e', 'e62e2d88-e6f1-44f1-b036-d5845b04021b', '82225575-1bd9-483c-a298-b25c0bc5cac7', 'af52ef5b-dbe0-4826-8b13-fed05ecb5025', '795ec3fd-ded7-4858-8315-412525075a0c', 'eb49602b-b494-4b4a-89f1-dc9965a497a9', 'f2cd63a8-bf56-4059-8a4e-7ad40c24652b', '8fa057e2-24fc-40ae-b32b-fe467fcb7466'], 'expected': '28b7f569-31b3-459c-be7b-c8e326eaa340', 'query': '228bc912-d1a5-43d5-8b52-f33b7e509779'}, {'is_hit': True, 'retrieved': ['64f1ca9f-a269-4d9f-b2b1-653c47c099fd', 'e62e2d88-e6f1-44f1-b036-d5845b04021b', '28b7f569-31b3-459c-be7b-c8e326eaa340', 'af52ef5b-dbe0-4826-8b13-fed05ecb5025', '61c26e01-ded3-4660-b386-3314963b3feb', 'dbabe5a1-fc94-45e0-8283-419914cbf264', '04dd36c9-f349-4b27-ad6d-1967dd5f0e80', '4c4a381e-07ea-4649-bf1f-acf7a2911172', 'f2cd63a8-bf56-4059-8a4e-7ad40c24652b', 'bb68c6c5-6a7c-44af-9a2f-b754ac287f4e'], 'expected': '28b7f569-31b3-459c-be7b-c8e326eaa340', 'query': '1538a3b9-cf55-4288-929c-c6c9d4930cec'}, {'is_hit': True, 'retrieved': ['bb68c6c5-6a7c-44af-9a2f-b754ac287f4e', 'dbabe5a1-fc94-45e0-8283-419914cbf264', '3ab93ea8-72df-45c4-bbf4-e09f8c4ec7b2', '82225575-1bd9-483c-a298-b25c0bc5cac7', '8fa057e2-24fc-40ae-b32b-fe467fcb7466', '28b7f569-31b3-459c-be7b-c8e326eaa340', 'af52ef5b-dbe0-4826-8b13-fed05ecb5025', '4c4a381e-07ea-4649-bf1f-acf7a2911172', '04dd36c9-f349-4b27-ad6d-1967dd5f0e80', '512de75c-db4c-4c4c-8a28-d26397a69d19'], 'expected': 'dbabe5a1-fc94-45e0-8283-419914cbf264', 'query': '87c8680b-faea-4bc7-ad75-8bbe6f7a1590'}, {'is_hit': True, 'retrieved': ['af52ef5b-dbe0-4826-8b13-fed05ecb5025', 'dbabe5a1-fc94-45e0-8283-419914cbf264', '28b7f569-31b3-459c-be7b-c8e326eaa340', 'e62e2d88-e6f1-44f1-b036-d5845b04021b', '04dd36c9-f349-4b27-ad6d-1967dd5f0e80', 'bb68c6c5-6a7c-44af-9a2f-b754ac287f4e', '18dddd0a-53b5-437b-bac5-df911d10684c', '795ec3fd-ded7-4858-8315-412525075a0c', 'f2cd63a8-bf56-4059-8a4e-7ad40c24652b', '82225575-1bd9-483c-a298-b25c0bc5cac7'], 'expected': 'dbabe5a1-fc94-45e0-8283-419914cbf264', 'query': '5e7d73bd-66f2-480b-a287-352c27be000c'}, {'is_hit': True, 'retrieved': ['dbabe5a1-fc94-45e0-8283-419914cbf264', '61c26e01-ded3-4660-b386-3314963b3feb', 'af52ef5b-dbe0-4826-8b13-fed05ecb5025', '4c4a381e-07ea-4649-bf1f-acf7a2911172', 'bb68c6c5-6a7c-44af-9a2f-b754ac287f4e', '795ec3fd-ded7-4858-8315-412525075a0c', 'eb49602b-b494-4b4a-89f1-dc9965a497a9', '28b7f569-31b3-459c-be7b-c8e326eaa340', '64f1ca9f-a269-4d9f-b2b1-653c47c099fd', 'e62e2d88-e6f1-44f1-b036-d5845b04021b'], 'expected': 'dbabe5a1-fc94-45e0-8283-419914cbf264', 'query': '1519aaf0-c817-488c-b2a3-e1202dd2f975'}, {'is_hit': False, 'retrieved': ['28b7f569-31b3-459c-be7b-c8e326eaa340', 'eb49602b-b494-4b4a-89f1-dc9965a497a9', '18dddd0a-53b5-437b-bac5-df911d10684c', '8fa057e2-24fc-40ae-b32b-fe467fcb7466', 'e62e2d88-e6f1-44f1-b036-d5845b04021b', '3ab93ea8-72df-45c4-bbf4-e09f8c4ec7b2', '64f1ca9f-a269-4d9f-b2b1-653c47c099fd', '82225575-1bd9-483c-a298-b25c0bc5cac7', '61c26e01-ded3-4660-b386-3314963b3feb', 'bb68c6c5-6a7c-44af-9a2f-b754ac287f4e'], 'expected': 'dbabe5a1-fc94-45e0-8283-419914cbf264', 'query': '2cf97e9e-94a8-45f1-9b49-7a74a03c5140'}, {'is_hit': True, 'retrieved': ['dbabe5a1-fc94-45e0-8283-419914cbf264', 'bb68c6c5-6a7c-44af-9a2f-b754ac287f4e', '28b7f569-31b3-459c-be7b-c8e326eaa340', '8fa057e2-24fc-40ae-b32b-fe467fcb7466', '3ab93ea8-72df-45c4-bbf4-e09f8c4ec7b2', 'af52ef5b-dbe0-4826-8b13-fed05ecb5025', 'e62e2d88-e6f1-44f1-b036-d5845b04021b', '82225575-1bd9-483c-a298-b25c0bc5cac7', '18dddd0a-53b5-437b-bac5-df911d10684c', '61c26e01-ded3-4660-b386-3314963b3feb'], 'expected': '18dddd0a-53b5-437b-bac5-df911d10684c', 'query': '3f723078-0f09-4abd-84b9-0339f0964ff0'}, {'is_hit': True, 'retrieved': ['18dddd0a-53b5-437b-bac5-df911d10684c', '61c26e01-ded3-4660-b386-3314963b3feb', 'eb49602b-b494-4b4a-89f1-dc9965a497a9', '64f1ca9f-a269-4d9f-b2b1-653c47c099fd', 'dbabe5a1-fc94-45e0-8283-419914cbf264', 'e62e2d88-e6f1-44f1-b036-d5845b04021b', '28b7f569-31b3-459c-be7b-c8e326eaa340', '04dd36c9-f349-4b27-ad6d-1967dd5f0e80', '512de75c-db4c-4c4c-8a28-d26397a69d19', '8fa057e2-24fc-40ae-b32b-fe467fcb7466'], 'expected': '18dddd0a-53b5-437b-bac5-df911d10684c', 'query': '307ed89d-83e6-458b-b9b1-ac63da072cbd'}, {'is_hit': True, 'retrieved': ['eb49602b-b494-4b4a-89f1-dc9965a497a9', '28b7f569-31b3-459c-be7b-c8e326eaa340', '18dddd0a-53b5-437b-bac5-df911d10684c', '61c26e01-ded3-4660-b386-3314963b3feb', '512de75c-db4c-4c4c-8a28-d26397a69d19', '64f1ca9f-a269-4d9f-b2b1-653c47c099fd', 'dbabe5a1-fc94-45e0-8283-419914cbf264', 'e62e2d88-e6f1-44f1-b036-d5845b04021b', '04dd36c9-f349-4b27-ad6d-1967dd5f0e80', 'af52ef5b-dbe0-4826-8b13-fed05ecb5025'], 'expected': '18dddd0a-53b5-437b-bac5-df911d10684c', 'query': '9dd2d025-aa54-4981-9b01-46e7786f38bc'}, {'is_hit': False, 'retrieved': ['dbabe5a1-fc94-45e0-8283-419914cbf264', '795ec3fd-ded7-4858-8315-412525075a0c', 'bb68c6c5-6a7c-44af-9a2f-b754ac287f4e', '28b7f569-31b3-459c-be7b-c8e326eaa340', '8fa057e2-24fc-40ae-b32b-fe467fcb7466', 'af52ef5b-dbe0-4826-8b13-fed05ecb5025', '82225575-1bd9-483c-a298-b25c0bc5cac7', 'eb49602b-b494-4b4a-89f1-dc9965a497a9', '64f1ca9f-a269-4d9f-b2b1-653c47c099fd', '4c4a381e-07ea-4649-bf1f-acf7a2911172'], 'expected': '18dddd0a-53b5-437b-bac5-df911d10684c', 'query': 'df4cf763-d89b-4a62-9dc4-09e8acd22d42'}, {'is_hit': True, 'retrieved': ['bb68c6c5-6a7c-44af-9a2f-b754ac287f4e', 'dbabe5a1-fc94-45e0-8283-419914cbf264', '3ab93ea8-72df-45c4-bbf4-e09f8c4ec7b2', '28b7f569-31b3-459c-be7b-c8e326eaa340', '82225575-1bd9-483c-a298-b25c0bc5cac7', '8fa057e2-24fc-40ae-b32b-fe467fcb7466', '66ca8265-b512-414d-8f79-133b69ad9c77', 'af52ef5b-dbe0-4826-8b13-fed05ecb5025', '4c4a381e-07ea-4649-bf1f-acf7a2911172', '795ec3fd-ded7-4858-8315-412525075a0c'], 'expected': '4c4a381e-07ea-4649-bf1f-acf7a2911172', 'query': '07f70cb9-93f6-41ed-be6a-84f4ebda4908'}, {'is_hit': True, 'retrieved': ['dbabe5a1-fc94-45e0-8283-419914cbf264', '28b7f569-31b3-459c-be7b-c8e326eaa340', 'eb49602b-b494-4b4a-89f1-dc9965a497a9', '512de75c-db4c-4c4c-8a28-d26397a69d19', '64f1ca9f-a269-4d9f-b2b1-653c47c099fd', '61c26e01-ded3-4660-b386-3314963b3feb', '18dddd0a-53b5-437b-bac5-df911d10684c', '4c4a381e-07ea-4649-bf1f-acf7a2911172', '8fa057e2-24fc-40ae-b32b-fe467fcb7466', '04dd36c9-f349-4b27-ad6d-1967dd5f0e80'], 'expected': '4c4a381e-07ea-4649-bf1f-acf7a2911172', 'query': '6734dd85-52f8-4f4b-a0a4-a8e167b962bf'}, {'is_hit': False, 'retrieved': ['04dd36c9-f349-4b27-ad6d-1967dd5f0e80', '512de75c-db4c-4c4c-8a28-d26397a69d19', 'af52ef5b-dbe0-4826-8b13-fed05ecb5025', 'eb49602b-b494-4b4a-89f1-dc9965a497a9', 'dbabe5a1-fc94-45e0-8283-419914cbf264', '82225575-1bd9-483c-a298-b25c0bc5cac7', '28b7f569-31b3-459c-be7b-c8e326eaa340', '66ca8265-b512-414d-8f79-133b69ad9c77', 'bb68c6c5-6a7c-44af-9a2f-b754ac287f4e', 'e62e2d88-e6f1-44f1-b036-d5845b04021b'], 'expected': '4c4a381e-07ea-4649-bf1f-acf7a2911172', 'query': 'ff8e490f-8165-4111-9af6-cb546a5610b1'}, {'is_hit': True, 'retrieved': ['4c4a381e-07ea-4649-bf1f-acf7a2911172', '18dddd0a-53b5-437b-bac5-df911d10684c', '61c26e01-ded3-4660-b386-3314963b3feb', '8fa057e2-24fc-40ae-b32b-fe467fcb7466', 'e62e2d88-e6f1-44f1-b036-d5845b04021b', '512de75c-db4c-4c4c-8a28-d26397a69d19', 'dbabe5a1-fc94-45e0-8283-419914cbf264', 'af52ef5b-dbe0-4826-8b13-fed05ecb5025', '04dd36c9-f349-4b27-ad6d-1967dd5f0e80', '3ab93ea8-72df-45c4-bbf4-e09f8c4ec7b2'], 'expected': '4c4a381e-07ea-4649-bf1f-acf7a2911172', 'query': '64d76812-305e-4316-8bd2-6b329d133725'}, {'is_hit': True, 'retrieved': ['bb68c6c5-6a7c-44af-9a2f-b754ac287f4e', '28b7f569-31b3-459c-be7b-c8e326eaa340', 'dbabe5a1-fc94-45e0-8283-419914cbf264', '8fa057e2-24fc-40ae-b32b-fe467fcb7466', '3ab93ea8-72df-45c4-bbf4-e09f8c4ec7b2', '82225575-1bd9-483c-a298-b25c0bc5cac7', '512de75c-db4c-4c4c-8a28-d26397a69d19', '61c26e01-ded3-4660-b386-3314963b3feb', '4c4a381e-07ea-4649-bf1f-acf7a2911172', '66ca8265-b512-414d-8f79-133b69ad9c77'], 'expected': '512de75c-db4c-4c4c-8a28-d26397a69d19', 'query': '00b38b39-c9d7-4265-9f44-e6eb1a03253b'}, {'is_hit': True, 'retrieved': ['512de75c-db4c-4c4c-8a28-d26397a69d19', 'e62e2d88-e6f1-44f1-b036-d5845b04021b', '28b7f569-31b3-459c-be7b-c8e326eaa340', 'af52ef5b-dbe0-4826-8b13-fed05ecb5025', 'f2cd63a8-bf56-4059-8a4e-7ad40c24652b', '04dd36c9-f349-4b27-ad6d-1967dd5f0e80', '64f1ca9f-a269-4d9f-b2b1-653c47c099fd', 'dbabe5a1-fc94-45e0-8283-419914cbf264', '795ec3fd-ded7-4858-8315-412525075a0c', '8fa057e2-24fc-40ae-b32b-fe467fcb7466'], 'expected': '512de75c-db4c-4c4c-8a28-d26397a69d19', 'query': 'cceea5a6-a473-49df-af2a-f769b1fe0a3d'}, {'is_hit': True, 'retrieved': ['512de75c-db4c-4c4c-8a28-d26397a69d19', 'e62e2d88-e6f1-44f1-b036-d5845b04021b', '04dd36c9-f349-4b27-ad6d-1967dd5f0e80', '28b7f569-31b3-459c-be7b-c8e326eaa340', '64f1ca9f-a269-4d9f-b2b1-653c47c099fd', 'f2cd63a8-bf56-4059-8a4e-7ad40c24652b', 'eb49602b-b494-4b4a-89f1-dc9965a497a9', '795ec3fd-ded7-4858-8315-412525075a0c', '8fa057e2-24fc-40ae-b32b-fe467fcb7466', '82225575-1bd9-483c-a298-b25c0bc5cac7'], 'expected': '512de75c-db4c-4c4c-8a28-d26397a69d19', 'query': '0ebf32b8-291c-45b6-9766-7873d837d0aa'}, {'is_hit': True, 'retrieved': ['04dd36c9-f349-4b27-ad6d-1967dd5f0e80', 'e62e2d88-e6f1-44f1-b036-d5845b04021b', '82225575-1bd9-483c-a298-b25c0bc5cac7', '28b7f569-31b3-459c-be7b-c8e326eaa340', '512de75c-db4c-4c4c-8a28-d26397a69d19', '18dddd0a-53b5-437b-bac5-df911d10684c', 'f5c34d8d-e724-4c27-ba66-746af0398224', '3ab93ea8-72df-45c4-bbf4-e09f8c4ec7b2', 'af52ef5b-dbe0-4826-8b13-fed05ecb5025', 'eb49602b-b494-4b4a-89f1-dc9965a497a9'], 'expected': '512de75c-db4c-4c4c-8a28-d26397a69d19', 'query': '35a244f6-6895-48b4-b503-7f55488842a6'}, {'is_hit': False, 'retrieved': ['bb68c6c5-6a7c-44af-9a2f-b754ac287f4e', '28b7f569-31b3-459c-be7b-c8e326eaa340', 'dbabe5a1-fc94-45e0-8283-419914cbf264', '8fa057e2-24fc-40ae-b32b-fe467fcb7466', '3ab93ea8-72df-45c4-bbf4-e09f8c4ec7b2', '82225575-1bd9-483c-a298-b25c0bc5cac7', '512de75c-db4c-4c4c-8a28-d26397a69d19', '61c26e01-ded3-4660-b386-3314963b3feb', '4c4a381e-07ea-4649-bf1f-acf7a2911172', '66ca8265-b512-414d-8f79-133b69ad9c77'], 'expected': 'f5c34d8d-e724-4c27-ba66-746af0398224', 'query': '02ce0640-dc23-49bc-9af4-aba9628c6927'}, {'is_hit': False, 'retrieved': ['e62e2d88-e6f1-44f1-b036-d5845b04021b', 'af52ef5b-dbe0-4826-8b13-fed05ecb5025', '28b7f569-31b3-459c-be7b-c8e326eaa340', '64f1ca9f-a269-4d9f-b2b1-653c47c099fd', '04dd36c9-f349-4b27-ad6d-1967dd5f0e80', 'f2cd63a8-bf56-4059-8a4e-7ad40c24652b', 'dbabe5a1-fc94-45e0-8283-419914cbf264', '61c26e01-ded3-4660-b386-3314963b3feb', 'eb49602b-b494-4b4a-89f1-dc9965a497a9', '18dddd0a-53b5-437b-bac5-df911d10684c'], 'expected': 'f5c34d8d-e724-4c27-ba66-746af0398224', 'query': 'ee05bdec-7883-44f2-81c4-f6ecdd2312c4'}, {'is_hit': False, 'retrieved': ['eb49602b-b494-4b4a-89f1-dc9965a497a9', 'dbabe5a1-fc94-45e0-8283-419914cbf264', '18dddd0a-53b5-437b-bac5-df911d10684c', '61c26e01-ded3-4660-b386-3314963b3feb', '04dd36c9-f349-4b27-ad6d-1967dd5f0e80', '82225575-1bd9-483c-a298-b25c0bc5cac7', 'e62e2d88-e6f1-44f1-b036-d5845b04021b', '512de75c-db4c-4c4c-8a28-d26397a69d19', 'bb68c6c5-6a7c-44af-9a2f-b754ac287f4e', '795ec3fd-ded7-4858-8315-412525075a0c'], 'expected': 'f5c34d8d-e724-4c27-ba66-746af0398224', 'query': 'cc2dbaaa-73dd-446e-9733-8e04c90b63d8'}, {'is_hit': True, 'retrieved': ['e62e2d88-e6f1-44f1-b036-d5845b04021b', 'f5c34d8d-e724-4c27-ba66-746af0398224', 'af52ef5b-dbe0-4826-8b13-fed05ecb5025', '8fa057e2-24fc-40ae-b32b-fe467fcb7466', '18dddd0a-53b5-437b-bac5-df911d10684c', '795ec3fd-ded7-4858-8315-412525075a0c', '82225575-1bd9-483c-a298-b25c0bc5cac7', '3ab93ea8-72df-45c4-bbf4-e09f8c4ec7b2', '64f1ca9f-a269-4d9f-b2b1-653c47c099fd', '28b7f569-31b3-459c-be7b-c8e326eaa340'], 'expected': 'f5c34d8d-e724-4c27-ba66-746af0398224', 'query': '932fffd9-1fdd-46df-a8be-107796fafad3'}, {'is_hit': True, 'retrieved': ['bb68c6c5-6a7c-44af-9a2f-b754ac287f4e', 'dbabe5a1-fc94-45e0-8283-419914cbf264', '3ab93ea8-72df-45c4-bbf4-e09f8c4ec7b2', '8fa057e2-24fc-40ae-b32b-fe467fcb7466', '28b7f569-31b3-459c-be7b-c8e326eaa340', '4c4a381e-07ea-4649-bf1f-acf7a2911172', 'af52ef5b-dbe0-4826-8b13-fed05ecb5025', '66ca8265-b512-414d-8f79-133b69ad9c77', '82225575-1bd9-483c-a298-b25c0bc5cac7', '04dd36c9-f349-4b27-ad6d-1967dd5f0e80'], 'expected': 'af52ef5b-dbe0-4826-8b13-fed05ecb5025', 'query': 'b12e9f38-6e42-4f4d-90f1-42f42001209c'}, {'is_hit': True, 'retrieved': ['04dd36c9-f349-4b27-ad6d-1967dd5f0e80', '28b7f569-31b3-459c-be7b-c8e326eaa340', 'af52ef5b-dbe0-4826-8b13-fed05ecb5025', 'e62e2d88-e6f1-44f1-b036-d5845b04021b', 'dbabe5a1-fc94-45e0-8283-419914cbf264', 'bb68c6c5-6a7c-44af-9a2f-b754ac287f4e', '512de75c-db4c-4c4c-8a28-d26397a69d19', '82225575-1bd9-483c-a298-b25c0bc5cac7', '18dddd0a-53b5-437b-bac5-df911d10684c', 'eb49602b-b494-4b4a-89f1-dc9965a497a9'], 'expected': 'af52ef5b-dbe0-4826-8b13-fed05ecb5025', 'query': 'bce3f09d-ffed-4a9d-ac4e-3047a6d66e17'}, {'is_hit': True, 'retrieved': ['af52ef5b-dbe0-4826-8b13-fed05ecb5025', '28b7f569-31b3-459c-be7b-c8e326eaa340', 'f2cd63a8-bf56-4059-8a4e-7ad40c24652b', 'bb68c6c5-6a7c-44af-9a2f-b754ac287f4e', '66ca8265-b512-414d-8f79-133b69ad9c77', 'dbabe5a1-fc94-45e0-8283-419914cbf264', '04dd36c9-f349-4b27-ad6d-1967dd5f0e80', '512de75c-db4c-4c4c-8a28-d26397a69d19', '3ab93ea8-72df-45c4-bbf4-e09f8c4ec7b2', 'e62e2d88-e6f1-44f1-b036-d5845b04021b'], 'expected': 'af52ef5b-dbe0-4826-8b13-fed05ecb5025', 'query': '13022316-2a35-4a4c-b9e1-6c1c6eee53f2'}, {'is_hit': True, 'retrieved': ['04dd36c9-f349-4b27-ad6d-1967dd5f0e80', 'e62e2d88-e6f1-44f1-b036-d5845b04021b', '3ab93ea8-72df-45c4-bbf4-e09f8c4ec7b2', '82225575-1bd9-483c-a298-b25c0bc5cac7', '512de75c-db4c-4c4c-8a28-d26397a69d19', 'af52ef5b-dbe0-4826-8b13-fed05ecb5025', '8fa057e2-24fc-40ae-b32b-fe467fcb7466', 'f5c34d8d-e724-4c27-ba66-746af0398224', 'bb68c6c5-6a7c-44af-9a2f-b754ac287f4e', '18dddd0a-53b5-437b-bac5-df911d10684c'], 'expected': 'af52ef5b-dbe0-4826-8b13-fed05ecb5025', 'query': 'c08a22dd-5f20-41b4-8d5f-0453c874c17b'}, {'is_hit': True, 'retrieved': ['dbabe5a1-fc94-45e0-8283-419914cbf264', 'bb68c6c5-6a7c-44af-9a2f-b754ac287f4e', '3ab93ea8-72df-45c4-bbf4-e09f8c4ec7b2', '04dd36c9-f349-4b27-ad6d-1967dd5f0e80', '8fa057e2-24fc-40ae-b32b-fe467fcb7466', '82225575-1bd9-483c-a298-b25c0bc5cac7', 'af52ef5b-dbe0-4826-8b13-fed05ecb5025', '28b7f569-31b3-459c-be7b-c8e326eaa340', '512de75c-db4c-4c4c-8a28-d26397a69d19', '4c4a381e-07ea-4649-bf1f-acf7a2911172'], 'expected': 'bb68c6c5-6a7c-44af-9a2f-b754ac287f4e', 'query': '85c0e1f3-e5b5-420c-8dd3-b70499577608'}, {'is_hit': True, 'retrieved': ['512de75c-db4c-4c4c-8a28-d26397a69d19', 'dbabe5a1-fc94-45e0-8283-419914cbf264', 'af52ef5b-dbe0-4826-8b13-fed05ecb5025', '28b7f569-31b3-459c-be7b-c8e326eaa340', '04dd36c9-f349-4b27-ad6d-1967dd5f0e80', 'eb49602b-b494-4b4a-89f1-dc9965a497a9', '82225575-1bd9-483c-a298-b25c0bc5cac7', '18dddd0a-53b5-437b-bac5-df911d10684c', 'e62e2d88-e6f1-44f1-b036-d5845b04021b', 'bb68c6c5-6a7c-44af-9a2f-b754ac287f4e'], 'expected': 'bb68c6c5-6a7c-44af-9a2f-b754ac287f4e', 'query': 'd1d4b0ec-5bd9-40d5-9752-6201bd9d853d'}, {'is_hit': False, 'retrieved': ['dbabe5a1-fc94-45e0-8283-419914cbf264', 'eb49602b-b494-4b4a-89f1-dc9965a497a9', 'e62e2d88-e6f1-44f1-b036-d5845b04021b', '512de75c-db4c-4c4c-8a28-d26397a69d19', '04dd36c9-f349-4b27-ad6d-1967dd5f0e80', '61c26e01-ded3-4660-b386-3314963b3feb', 'af52ef5b-dbe0-4826-8b13-fed05ecb5025', 'f5c34d8d-e724-4c27-ba66-746af0398224', '3ab93ea8-72df-45c4-bbf4-e09f8c4ec7b2', '18dddd0a-53b5-437b-bac5-df911d10684c'], 'expected': 'bb68c6c5-6a7c-44af-9a2f-b754ac287f4e', 'query': '21602b2f-a9f4-401e-be2e-9fc4be6d6e6d'}, {'is_hit': True, 'retrieved': ['04dd36c9-f349-4b27-ad6d-1967dd5f0e80', '82225575-1bd9-483c-a298-b25c0bc5cac7', 'e62e2d88-e6f1-44f1-b036-d5845b04021b', '3ab93ea8-72df-45c4-bbf4-e09f8c4ec7b2', 'af52ef5b-dbe0-4826-8b13-fed05ecb5025', 'bb68c6c5-6a7c-44af-9a2f-b754ac287f4e', '512de75c-db4c-4c4c-8a28-d26397a69d19', '18dddd0a-53b5-437b-bac5-df911d10684c', '8fa057e2-24fc-40ae-b32b-fe467fcb7466', 'f5c34d8d-e724-4c27-ba66-746af0398224'], 'expected': 'bb68c6c5-6a7c-44af-9a2f-b754ac287f4e', 'query': 'bcaf9fbe-4680-45e8-9653-3ab3c724edac'}, {'is_hit': False, 'retrieved': ['bb68c6c5-6a7c-44af-9a2f-b754ac287f4e', '28b7f569-31b3-459c-be7b-c8e326eaa340', 'dbabe5a1-fc94-45e0-8283-419914cbf264', '8fa057e2-24fc-40ae-b32b-fe467fcb7466', '3ab93ea8-72df-45c4-bbf4-e09f8c4ec7b2', '82225575-1bd9-483c-a298-b25c0bc5cac7', '512de75c-db4c-4c4c-8a28-d26397a69d19', '61c26e01-ded3-4660-b386-3314963b3feb', '4c4a381e-07ea-4649-bf1f-acf7a2911172', '66ca8265-b512-414d-8f79-133b69ad9c77'], 'expected': 'e62e2d88-e6f1-44f1-b036-d5845b04021b', 'query': 'c41ecba7-564e-4e75-9fb7-f62edb2f98f5'}, {'is_hit': True, 'retrieved': ['e62e2d88-e6f1-44f1-b036-d5845b04021b', '28b7f569-31b3-459c-be7b-c8e326eaa340', 'af52ef5b-dbe0-4826-8b13-fed05ecb5025', 'eb49602b-b494-4b4a-89f1-dc9965a497a9', '64f1ca9f-a269-4d9f-b2b1-653c47c099fd', '04dd36c9-f349-4b27-ad6d-1967dd5f0e80', 'dbabe5a1-fc94-45e0-8283-419914cbf264', 'f2cd63a8-bf56-4059-8a4e-7ad40c24652b', '18dddd0a-53b5-437b-bac5-df911d10684c', '512de75c-db4c-4c4c-8a28-d26397a69d19'], 'expected': 'e62e2d88-e6f1-44f1-b036-d5845b04021b', 'query': '10e9a03b-542a-4f74-8945-ad3061736b69'}, {'is_hit': True, 'retrieved': ['e62e2d88-e6f1-44f1-b036-d5845b04021b', '04dd36c9-f349-4b27-ad6d-1967dd5f0e80', '82225575-1bd9-483c-a298-b25c0bc5cac7', '3ab93ea8-72df-45c4-bbf4-e09f8c4ec7b2', '512de75c-db4c-4c4c-8a28-d26397a69d19', 'af52ef5b-dbe0-4826-8b13-fed05ecb5025', 'f5c34d8d-e724-4c27-ba66-746af0398224', '18dddd0a-53b5-437b-bac5-df911d10684c', '8fa057e2-24fc-40ae-b32b-fe467fcb7466', '795ec3fd-ded7-4858-8315-412525075a0c'], 'expected': 'e62e2d88-e6f1-44f1-b036-d5845b04021b', 'query': 'afdd8edd-9dff-4c28-a9b1-a13e2560ecb5'}, {'is_hit': True, 'retrieved': ['4c4a381e-07ea-4649-bf1f-acf7a2911172', 'e62e2d88-e6f1-44f1-b036-d5845b04021b', 'f2cd63a8-bf56-4059-8a4e-7ad40c24652b', '64f1ca9f-a269-4d9f-b2b1-653c47c099fd', '3ab93ea8-72df-45c4-bbf4-e09f8c4ec7b2', '28b7f569-31b3-459c-be7b-c8e326eaa340', '795ec3fd-ded7-4858-8315-412525075a0c', 'dbabe5a1-fc94-45e0-8283-419914cbf264', '66ca8265-b512-414d-8f79-133b69ad9c77', '61c26e01-ded3-4660-b386-3314963b3feb'], 'expected': 'e62e2d88-e6f1-44f1-b036-d5845b04021b', 'query': 'e462bcce-c038-48ef-8218-51a4c888e770'}, {'is_hit': True, 'retrieved': ['dbabe5a1-fc94-45e0-8283-419914cbf264', 'bb68c6c5-6a7c-44af-9a2f-b754ac287f4e', '3ab93ea8-72df-45c4-bbf4-e09f8c4ec7b2', '04dd36c9-f349-4b27-ad6d-1967dd5f0e80', '8fa057e2-24fc-40ae-b32b-fe467fcb7466', '82225575-1bd9-483c-a298-b25c0bc5cac7', 'af52ef5b-dbe0-4826-8b13-fed05ecb5025', '28b7f569-31b3-459c-be7b-c8e326eaa340', '512de75c-db4c-4c4c-8a28-d26397a69d19', '4c4a381e-07ea-4649-bf1f-acf7a2911172'], 'expected': '3ab93ea8-72df-45c4-bbf4-e09f8c4ec7b2', 'query': '1a812cc6-ca5c-4269-a6d6-934ec0f544b8'}, {'is_hit': True, 'retrieved': ['f2cd63a8-bf56-4059-8a4e-7ad40c24652b', '3ab93ea8-72df-45c4-bbf4-e09f8c4ec7b2', 'e62e2d88-e6f1-44f1-b036-d5845b04021b', '64f1ca9f-a269-4d9f-b2b1-653c47c099fd', '28b7f569-31b3-459c-be7b-c8e326eaa340', '4c4a381e-07ea-4649-bf1f-acf7a2911172', 'eb49602b-b494-4b4a-89f1-dc9965a497a9', '795ec3fd-ded7-4858-8315-412525075a0c', '66ca8265-b512-414d-8f79-133b69ad9c77', '512de75c-db4c-4c4c-8a28-d26397a69d19'], 'expected': '3ab93ea8-72df-45c4-bbf4-e09f8c4ec7b2', 'query': 'dbdcbc3f-5361-4bd5-b111-bc9be8f1389f'}, {'is_hit': True, 'retrieved': ['64f1ca9f-a269-4d9f-b2b1-653c47c099fd', '3ab93ea8-72df-45c4-bbf4-e09f8c4ec7b2', 'e62e2d88-e6f1-44f1-b036-d5845b04021b', '28b7f569-31b3-459c-be7b-c8e326eaa340', 'f2cd63a8-bf56-4059-8a4e-7ad40c24652b', '512de75c-db4c-4c4c-8a28-d26397a69d19', 'eb49602b-b494-4b4a-89f1-dc9965a497a9', '61c26e01-ded3-4660-b386-3314963b3feb', '04dd36c9-f349-4b27-ad6d-1967dd5f0e80', '4c4a381e-07ea-4649-bf1f-acf7a2911172'], 'expected': '3ab93ea8-72df-45c4-bbf4-e09f8c4ec7b2', 'query': '039d2d4a-c0d4-4186-899a-2ad0bc75df83'}, {'is_hit': True, 'retrieved': ['eb49602b-b494-4b4a-89f1-dc9965a497a9', 'e62e2d88-e6f1-44f1-b036-d5845b04021b', 'dbabe5a1-fc94-45e0-8283-419914cbf264', '64f1ca9f-a269-4d9f-b2b1-653c47c099fd', '3ab93ea8-72df-45c4-bbf4-e09f8c4ec7b2', '28b7f569-31b3-459c-be7b-c8e326eaa340', 'bb68c6c5-6a7c-44af-9a2f-b754ac287f4e', 'f2cd63a8-bf56-4059-8a4e-7ad40c24652b', '82225575-1bd9-483c-a298-b25c0bc5cac7', '04dd36c9-f349-4b27-ad6d-1967dd5f0e80'], 'expected': '3ab93ea8-72df-45c4-bbf4-e09f8c4ec7b2', 'query': '587521f2-5091-421e-ad93-f777a8f168bb'}, {'is_hit': True, 'retrieved': ['bb68c6c5-6a7c-44af-9a2f-b754ac287f4e', 'dbabe5a1-fc94-45e0-8283-419914cbf264', '3ab93ea8-72df-45c4-bbf4-e09f8c4ec7b2', '8fa057e2-24fc-40ae-b32b-fe467fcb7466', '28b7f569-31b3-459c-be7b-c8e326eaa340', '4c4a381e-07ea-4649-bf1f-acf7a2911172', 'af52ef5b-dbe0-4826-8b13-fed05ecb5025', '66ca8265-b512-414d-8f79-133b69ad9c77', '82225575-1bd9-483c-a298-b25c0bc5cac7', '04dd36c9-f349-4b27-ad6d-1967dd5f0e80'], 'expected': '04dd36c9-f349-4b27-ad6d-1967dd5f0e80', 'query': 'cfb9ab04-4bd8-4667-b1ff-1ef3e9d583a4'}, {'is_hit': True, 'retrieved': ['af52ef5b-dbe0-4826-8b13-fed05ecb5025', 'dbabe5a1-fc94-45e0-8283-419914cbf264', '28b7f569-31b3-459c-be7b-c8e326eaa340', '512de75c-db4c-4c4c-8a28-d26397a69d19', 'bb68c6c5-6a7c-44af-9a2f-b754ac287f4e', '04dd36c9-f349-4b27-ad6d-1967dd5f0e80', '795ec3fd-ded7-4858-8315-412525075a0c', 'e62e2d88-e6f1-44f1-b036-d5845b04021b', '18dddd0a-53b5-437b-bac5-df911d10684c', '82225575-1bd9-483c-a298-b25c0bc5cac7'], 'expected': '04dd36c9-f349-4b27-ad6d-1967dd5f0e80', 'query': 'e07c4513-bf46-4bdf-9bc6-fa3371df1781'}, {'is_hit': True, 'retrieved': ['af52ef5b-dbe0-4826-8b13-fed05ecb5025', 'eb49602b-b494-4b4a-89f1-dc9965a497a9', '512de75c-db4c-4c4c-8a28-d26397a69d19', '04dd36c9-f349-4b27-ad6d-1967dd5f0e80', '3ab93ea8-72df-45c4-bbf4-e09f8c4ec7b2', '66ca8265-b512-414d-8f79-133b69ad9c77', 'bb68c6c5-6a7c-44af-9a2f-b754ac287f4e', '82225575-1bd9-483c-a298-b25c0bc5cac7', '8fa057e2-24fc-40ae-b32b-fe467fcb7466', 'f5c34d8d-e724-4c27-ba66-746af0398224'], 'expected': '04dd36c9-f349-4b27-ad6d-1967dd5f0e80', 'query': '69b947a8-743b-48e4-bd30-00a0579d2b1f'}, {'is_hit': True, 'retrieved': ['04dd36c9-f349-4b27-ad6d-1967dd5f0e80', '512de75c-db4c-4c4c-8a28-d26397a69d19', 'dbabe5a1-fc94-45e0-8283-419914cbf264', 'e62e2d88-e6f1-44f1-b036-d5845b04021b', 'eb49602b-b494-4b4a-89f1-dc9965a497a9', 'af52ef5b-dbe0-4826-8b13-fed05ecb5025', '28b7f569-31b3-459c-be7b-c8e326eaa340', '82225575-1bd9-483c-a298-b25c0bc5cac7', '3ab93ea8-72df-45c4-bbf4-e09f8c4ec7b2', '18dddd0a-53b5-437b-bac5-df911d10684c'], 'expected': '04dd36c9-f349-4b27-ad6d-1967dd5f0e80', 'query': '83e5f988-1d88-4595-a587-38746422c717'}, {'is_hit': True, 'retrieved': ['dbabe5a1-fc94-45e0-8283-419914cbf264', 'bb68c6c5-6a7c-44af-9a2f-b754ac287f4e', '3ab93ea8-72df-45c4-bbf4-e09f8c4ec7b2', '04dd36c9-f349-4b27-ad6d-1967dd5f0e80', '8fa057e2-24fc-40ae-b32b-fe467fcb7466', '82225575-1bd9-483c-a298-b25c0bc5cac7', 'af52ef5b-dbe0-4826-8b13-fed05ecb5025', '28b7f569-31b3-459c-be7b-c8e326eaa340', '512de75c-db4c-4c4c-8a28-d26397a69d19', '4c4a381e-07ea-4649-bf1f-acf7a2911172'], 'expected': '82225575-1bd9-483c-a298-b25c0bc5cac7', 'query': '027f1542-176c-46cd-92ca-8a54670b78d5'}, {'is_hit': True, 'retrieved': ['af52ef5b-dbe0-4826-8b13-fed05ecb5025', 'e62e2d88-e6f1-44f1-b036-d5845b04021b', '28b7f569-31b3-459c-be7b-c8e326eaa340', 'f2cd63a8-bf56-4059-8a4e-7ad40c24652b', '8fa057e2-24fc-40ae-b32b-fe467fcb7466', '04dd36c9-f349-4b27-ad6d-1967dd5f0e80', '512de75c-db4c-4c4c-8a28-d26397a69d19', 'bb68c6c5-6a7c-44af-9a2f-b754ac287f4e', '64f1ca9f-a269-4d9f-b2b1-653c47c099fd', '82225575-1bd9-483c-a298-b25c0bc5cac7'], 'expected': '82225575-1bd9-483c-a298-b25c0bc5cac7', 'query': '23be3811-81cd-4743-8a72-b78a15d86be7'}, {'is_hit': True, 'retrieved': ['04dd36c9-f349-4b27-ad6d-1967dd5f0e80', 'dbabe5a1-fc94-45e0-8283-419914cbf264', 'af52ef5b-dbe0-4826-8b13-fed05ecb5025', '66ca8265-b512-414d-8f79-133b69ad9c77', '512de75c-db4c-4c4c-8a28-d26397a69d19', 'e62e2d88-e6f1-44f1-b036-d5845b04021b', '82225575-1bd9-483c-a298-b25c0bc5cac7', '28b7f569-31b3-459c-be7b-c8e326eaa340', 'f5c34d8d-e724-4c27-ba66-746af0398224', '3ab93ea8-72df-45c4-bbf4-e09f8c4ec7b2'], 'expected': '82225575-1bd9-483c-a298-b25c0bc5cac7', 'query': 'd086d681-1c34-4aca-a910-bce812374def'}, {'is_hit': True, 'retrieved': ['eb49602b-b494-4b4a-89f1-dc9965a497a9', '82225575-1bd9-483c-a298-b25c0bc5cac7', '64f1ca9f-a269-4d9f-b2b1-653c47c099fd', 'e62e2d88-e6f1-44f1-b036-d5845b04021b', 'dbabe5a1-fc94-45e0-8283-419914cbf264', '28b7f569-31b3-459c-be7b-c8e326eaa340', '18dddd0a-53b5-437b-bac5-df911d10684c', '8fa057e2-24fc-40ae-b32b-fe467fcb7466', 'bb68c6c5-6a7c-44af-9a2f-b754ac287f4e', '3ab93ea8-72df-45c4-bbf4-e09f8c4ec7b2'], 'expected': '82225575-1bd9-483c-a298-b25c0bc5cac7', 'query': '44629d22-de94-4579-be33-6aff3c2c4bc5'}, {'is_hit': False, 'retrieved': ['bb68c6c5-6a7c-44af-9a2f-b754ac287f4e', 'dbabe5a1-fc94-45e0-8283-419914cbf264', '512de75c-db4c-4c4c-8a28-d26397a69d19', '8fa057e2-24fc-40ae-b32b-fe467fcb7466', '04dd36c9-f349-4b27-ad6d-1967dd5f0e80', '3ab93ea8-72df-45c4-bbf4-e09f8c4ec7b2', '28b7f569-31b3-459c-be7b-c8e326eaa340', '4c4a381e-07ea-4649-bf1f-acf7a2911172', '82225575-1bd9-483c-a298-b25c0bc5cac7', 'af52ef5b-dbe0-4826-8b13-fed05ecb5025'], 'expected': 'eb49602b-b494-4b4a-89f1-dc9965a497a9', 'query': 'f660aa12-ab6e-4da6-8d2a-d60c7c5b0def'}, {'is_hit': True, 'retrieved': ['eb49602b-b494-4b4a-89f1-dc9965a497a9', '28b7f569-31b3-459c-be7b-c8e326eaa340', '64f1ca9f-a269-4d9f-b2b1-653c47c099fd', 'dbabe5a1-fc94-45e0-8283-419914cbf264', '18dddd0a-53b5-437b-bac5-df911d10684c', '61c26e01-ded3-4660-b386-3314963b3feb', 'e62e2d88-e6f1-44f1-b036-d5845b04021b', '512de75c-db4c-4c4c-8a28-d26397a69d19', '8fa057e2-24fc-40ae-b32b-fe467fcb7466', 'bb68c6c5-6a7c-44af-9a2f-b754ac287f4e'], 'expected': 'eb49602b-b494-4b4a-89f1-dc9965a497a9', 'query': 'f62c1186-c416-42e7-b5a5-82a1d06b7819'}, {'is_hit': True, 'retrieved': ['eb49602b-b494-4b4a-89f1-dc9965a497a9', '28b7f569-31b3-459c-be7b-c8e326eaa340', '512de75c-db4c-4c4c-8a28-d26397a69d19', 'dbabe5a1-fc94-45e0-8283-419914cbf264', '8fa057e2-24fc-40ae-b32b-fe467fcb7466', '18dddd0a-53b5-437b-bac5-df911d10684c', '61c26e01-ded3-4660-b386-3314963b3feb', 'e62e2d88-e6f1-44f1-b036-d5845b04021b', '04dd36c9-f349-4b27-ad6d-1967dd5f0e80', '3ab93ea8-72df-45c4-bbf4-e09f8c4ec7b2'], 'expected': 'eb49602b-b494-4b4a-89f1-dc9965a497a9', 'query': '447f59ca-8cef-47f8-8016-fb14c4d1c848'}, {'is_hit': True, 'retrieved': ['eb49602b-b494-4b4a-89f1-dc9965a497a9', '04dd36c9-f349-4b27-ad6d-1967dd5f0e80', 'e62e2d88-e6f1-44f1-b036-d5845b04021b', '82225575-1bd9-483c-a298-b25c0bc5cac7', '28b7f569-31b3-459c-be7b-c8e326eaa340', 'f2cd63a8-bf56-4059-8a4e-7ad40c24652b', '512de75c-db4c-4c4c-8a28-d26397a69d19', 'af52ef5b-dbe0-4826-8b13-fed05ecb5025', '18dddd0a-53b5-437b-bac5-df911d10684c', '64f1ca9f-a269-4d9f-b2b1-653c47c099fd'], 'expected': 'eb49602b-b494-4b4a-89f1-dc9965a497a9', 'query': 'dc107503-618b-4664-957e-eb30ce9536ca'}]\n"
     ]
    }
   ],
   "source": [
    "from llama_index.core.evaluation import generate_question_context_pairs, EmbeddingQAFinetuneDataset\n",
    "from llama_index.core.schema import TextNode\n",
    "\n",
    "def evaluate(\n",
    "    dataset,\n",
    "    embed_model,\n",
    "    top_k=5,\n",
    "    verbose=False,\n",
    "):\n",
    "    corpus = dataset.corpus\n",
    "    queries = dataset.queries\n",
    "    relevant_docs = dataset.relevant_docs\n",
    "\n",
    "    nodes = [TextNode(id_=id_, text=text) for id_, text in corpus.items()]\n",
    "    index = VectorStoreIndex(\n",
    "        nodes, embed_model=embed_model, show_progress=True\n",
    "    )\n",
    "    retriever = index.as_retriever(similarity_top_k=top_k)\n",
    "\n",
    "    eval_results = []\n",
    "    for query_id, query in queries.items():\n",
    "        retrieved_nodes = retriever.retrieve(query)\n",
    "        retrieved_ids = [node.node.node_id for node in retrieved_nodes]\n",
    "        expected_id = relevant_docs[query_id][0]\n",
    "        is_hit = expected_id in retrieved_ids \n",
    "\n",
    "        eval_result = {\n",
    "            \"is_hit\": is_hit,\n",
    "            \"retrieved\": retrieved_ids,\n",
    "            \"expected\": expected_id,\n",
    "            \"query\": query_id,\n",
    "        }\n",
    "        eval_results.append(eval_result)\n",
    "    return eval_results\n",
    "\n",
    "eval_results = evaluate(qa_dataset , embed_model=Settings.embed_model, top_k=10, verbose=False)\n",
    "print(\"Evaluation results:\", eval_results)"
   ]
  },
  {
   "cell_type": "code",
   "execution_count": 10,
   "id": "a3fdf312-9306-48d6-970e-4fc638ffce44",
   "metadata": {},
   "outputs": [
    {
     "name": "stdout",
     "output_type": "stream",
     "text": [
      "Accuracy: 0.8125\n",
      "Recall: 0.45709325396825407\n",
      "F1-score: 0.5850507911701506\n"
     ]
    }
   ],
   "source": [
    "def calculate_metrics(eval_results):\n",
    "    precision_sum = 0\n",
    "    recall_sum = 0\n",
    "    num_queries = len(eval_results)\n",
    "\n",
    "    for result in eval_results:\n",
    "        if result['is_hit']:\n",
    "            precision_sum += 1\n",
    "            recall_sum += 1 / (result['retrieved'].index(result['expected']) + 1)\n",
    "\n",
    "    precision = precision_sum / num_queries\n",
    "    recall = recall_sum / num_queries\n",
    "    f1_score = 2 * (precision * recall) / (precision + recall)\n",
    "\n",
    "    return precision, recall, f1_score\n",
    "\n",
    "precision, recall, f1_score = calculate_metrics(eval_results)\n",
    "print(\"Accuracy:\", precision)\n",
    "print(\"Recall:\", recall)\n",
    "print(\"F1-score:\", f1_score)"
   ]
  },
  {
   "cell_type": "code",
   "execution_count": null,
   "id": "368368c4-8d69-4a0f-9420-c93fd9d63787",
   "metadata": {},
   "outputs": [],
   "source": []
  }
 ],
 "metadata": {
  "kernelspec": {
   "display_name": "Python 3 (ipykernel)",
   "language": "python",
   "name": "python3"
  },
  "language_info": {
   "codemirror_mode": {
    "name": "ipython",
    "version": 3
   },
   "file_extension": ".py",
   "mimetype": "text/x-python",
   "name": "python",
   "nbconvert_exporter": "python",
   "pygments_lexer": "ipython3",
   "version": "3.10.9"
  }
 },
 "nbformat": 4,
 "nbformat_minor": 5
}
